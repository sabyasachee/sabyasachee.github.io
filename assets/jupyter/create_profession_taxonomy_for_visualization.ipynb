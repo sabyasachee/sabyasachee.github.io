{
 "cells": [
  {
   "cell_type": "code",
   "execution_count": 20,
   "metadata": {},
   "outputs": [],
   "source": [
    "import pandas as pd\n",
    "import collections\n",
    "import re\n",
    "import json\n",
    "import random"
   ]
  },
  {
   "cell_type": "code",
   "execution_count": 2,
   "metadata": {},
   "outputs": [],
   "source": [
    "taxonomy = pd.read_csv(\"../csv/soc-mapped-expanded-taxonomy.csv\", index_col=None)"
   ]
  },
  {
   "cell_type": "code",
   "execution_count": 3,
   "metadata": {},
   "outputs": [
    {
     "data": {
      "text/html": [
       "<div>\n",
       "<style scoped>\n",
       "    .dataframe tbody tr th:only-of-type {\n",
       "        vertical-align: middle;\n",
       "    }\n",
       "\n",
       "    .dataframe tbody tr th {\n",
       "        vertical-align: top;\n",
       "    }\n",
       "\n",
       "    .dataframe thead th {\n",
       "        text-align: right;\n",
       "    }\n",
       "</style>\n",
       "<table border=\"1\" class=\"dataframe\">\n",
       "  <thead>\n",
       "    <tr style=\"text-align: right;\">\n",
       "      <th></th>\n",
       "      <th>profession</th>\n",
       "      <th>sense-name</th>\n",
       "      <th>sense-definition</th>\n",
       "      <th>primary-soc</th>\n",
       "      <th>secondary-soc</th>\n",
       "    </tr>\n",
       "  </thead>\n",
       "  <tbody>\n",
       "    <tr>\n",
       "      <th>0</th>\n",
       "      <td>accountant</td>\n",
       "      <td>accountant.n.01</td>\n",
       "      <td>someone who maintains and audits business acco...</td>\n",
       "      <td>13:Business and Financial Operations Occupations</td>\n",
       "      <td>NaN</td>\n",
       "    </tr>\n",
       "    <tr>\n",
       "      <th>1</th>\n",
       "      <td>acrobat</td>\n",
       "      <td>acrobat.n.01</td>\n",
       "      <td>an athlete who performs acts requiring skill a...</td>\n",
       "      <td>27:Arts, Design, Entertainment, Sports, and Me...</td>\n",
       "      <td>NaN</td>\n",
       "    </tr>\n",
       "    <tr>\n",
       "      <th>2</th>\n",
       "      <td>actor</td>\n",
       "      <td>actor.n.01</td>\n",
       "      <td>a theatrical performer</td>\n",
       "      <td>27:Arts, Design, Entertainment, Sports, and Me...</td>\n",
       "      <td>NaN</td>\n",
       "    </tr>\n",
       "    <tr>\n",
       "      <th>3</th>\n",
       "      <td>actor</td>\n",
       "      <td>actor.n.02</td>\n",
       "      <td>a person who acts and gets things done</td>\n",
       "      <td>27:Arts, Design, Entertainment, Sports, and Me...</td>\n",
       "      <td>NaN</td>\n",
       "    </tr>\n",
       "    <tr>\n",
       "      <th>4</th>\n",
       "      <td>actress</td>\n",
       "      <td>actress.n.01</td>\n",
       "      <td>a female actor</td>\n",
       "      <td>27:Arts, Design, Entertainment, Sports, and Me...</td>\n",
       "      <td>NaN</td>\n",
       "    </tr>\n",
       "  </tbody>\n",
       "</table>\n",
       "</div>"
      ],
      "text/plain": [
       "   profession       sense-name  \\\n",
       "0  accountant  accountant.n.01   \n",
       "1     acrobat     acrobat.n.01   \n",
       "2       actor       actor.n.01   \n",
       "3       actor       actor.n.02   \n",
       "4     actress     actress.n.01   \n",
       "\n",
       "                                    sense-definition  \\\n",
       "0  someone who maintains and audits business acco...   \n",
       "1  an athlete who performs acts requiring skill a...   \n",
       "2                             a theatrical performer   \n",
       "3             a person who acts and gets things done   \n",
       "4                                     a female actor   \n",
       "\n",
       "                                         primary-soc secondary-soc  \n",
       "0   13:Business and Financial Operations Occupations           NaN  \n",
       "1  27:Arts, Design, Entertainment, Sports, and Me...           NaN  \n",
       "2  27:Arts, Design, Entertainment, Sports, and Me...           NaN  \n",
       "3  27:Arts, Design, Entertainment, Sports, and Me...           NaN  \n",
       "4  27:Arts, Design, Entertainment, Sports, and Me...           NaN  "
      ]
     },
     "execution_count": 3,
     "metadata": {},
     "output_type": "execute_result"
    }
   ],
   "source": [
    "taxonomy.head()"
   ]
  },
  {
   "cell_type": "code",
   "execution_count": 10,
   "metadata": {},
   "outputs": [
    {
     "name": "stdout",
     "output_type": "stream",
     "text": [
      "11:Management Occupations                                              =  63\n",
      "13:Business and Financial Operations Occupations                       =   9\n",
      "15:Computer and Mathematical Occupations                               =   3\n",
      "17:Architecture and Engineering Occupations                            =   7\n",
      "19:Life, Physical, and Social Science Occupations                      =  17\n",
      "21:Community and Social Service Occupations                            =  45\n",
      "23:Legal Occupations                                                   =  22\n",
      "25:Educational Instruction and Library Occupations                     =  16\n",
      "27:Arts, Design, Entertainment, Sports, and Media Occupations          = 131\n",
      "29:Healthcare Practitioners and Technical Occupations                  =  27\n",
      "31:Healthcare Support Occupations                                      =   2\n",
      "33:Protective Service Occupations                                      =  70\n",
      "35:Food Preparation and Serving Related Occupations                    =  13\n",
      "37:Building and Grounds Cleaning and Maintenance Occupations           =  19\n",
      "39:Personal Care and Service Occupations                               =  23\n",
      "41:Sales and Related Occupations                                       =  26\n",
      "43:Office and Administrative Support Occupations                       =  23\n",
      "45:Farming, Fishing, and Forestry Occupations                          =  12\n",
      "47:Construction and Extraction Occupations                             =   8\n",
      "49:Installation, Maintenance, and Repair Occupations                   =   6\n",
      "51:Production Occupations                                              =  25\n",
      "53:Transportation and Material Moving Occupations                      =  36\n",
      "55:Military Specific Occupations                                       =  40\n",
      "Can't Say                                                              =  25\n",
      "General                                                                =  17\n"
     ]
    }
   ],
   "source": [
    "soc_values_dist = collections.Counter(taxonomy[\"primary-soc\"].dropna().sort_values())\n",
    "for soc_value, n in soc_values_dist.items():\n",
    "    print(f\"{soc_value:70s} = {n:3d}\")"
   ]
  },
  {
   "cell_type": "code",
   "execution_count": 47,
   "metadata": {},
   "outputs": [
    {
     "data": {
      "text/plain": [
       "[('33:Protective Service Occupations', 12),\n",
       " ('27:Arts, Design, Entertainment, Sports, and Media Occupations', 12),\n",
       " ('53:Transportation and Material Moving Occupations', 7),\n",
       " ('11:Management Occupations', 6),\n",
       " ('55:Military Specific Occupations', 4),\n",
       " ('51:Production Occupations', 4),\n",
       " ('23:Legal Occupations', 4),\n",
       " ('37:Building and Grounds Cleaning and Maintenance Occupations', 3),\n",
       " ('43:Office and Administrative Support Occupations', 3),\n",
       " ('39:Personal Care and Service Occupations', 3)]"
      ]
     },
     "execution_count": 47,
     "metadata": {},
     "output_type": "execute_result"
    }
   ],
   "source": [
    "df = taxonomy.groupby([\"primary-soc\", \"sense-name\"]).agg(len)[\"profession\"].sort_values(ascending=False)\n",
    "arr = collections.Counter(df[df >= 2].index.get_level_values(0)).items()\n",
    "arr = sorted(arr, key=lambda x: x[1], reverse=True)\n",
    "arr[:10]"
   ]
  },
  {
   "cell_type": "code",
   "execution_count": 45,
   "metadata": {},
   "outputs": [],
   "source": [
    "n_soc = 5 # number of soc groups to show\n",
    "n_senses = 5 # number of senses to show per soc group\n",
    "\n",
    "soc_groups = [\n",
    "    \"33:Protective Service Occupations\",\n",
    "    \"27:Arts, Design, Entertainment, Sports, and Media Occupations\",\n",
    "    \"53:Transportation and Material Moving Occupations\",\n",
    "    \"11:Management Occupations\",\n",
    "    \"29:Healthcare Practitioners and Technical Occupations\"\n",
    "]\n",
    "small_taxonomy = taxonomy[taxonomy[\"primary-soc\"].isin(soc_groups)]\n",
    "\n",
    "taxonomy_dict = {\"name\": \"Taxonomy\", \"children\": []}\n",
    "\n",
    "for i, (soc, soc_df) in enumerate(small_taxonomy.groupby(\"primary-soc\", dropna=True, sort=True)):\n",
    "    soc = soc[3:]\n",
    "    taxonomy_dict[\"children\"].append({\"name\": soc, \"children\": []})\n",
    "\n",
    "    sense_count = []\n",
    "    for sense_name, sense_df in soc_df.groupby(\"sense-name\"):\n",
    "        sense_count.append((sense_name, len(sense_df)))\n",
    "    sense_count = sorted(sense_count, key=lambda x: x[1], reverse=True)\n",
    "    sense_names = [x[0] for x in sense_count[:n_senses]]\n",
    "\n",
    "    small_soc_df = soc_df[soc_df[\"sense-name\"].isin(sense_names)]\n",
    "\n",
    "    for j, ((sense_name, sense_definition), sense_df) in enumerate(small_soc_df.groupby(\n",
    "        [\"sense-name\", \"sense-definition\"], dropna=True, sort=True)):\n",
    "        taxonomy_dict[\"children\"][i][\"children\"].append({\"name\": f\"{sense_name} - {sense_definition}\", \n",
    "                                                            \"children\": []})\n",
    "        for _, row in sense_df.iterrows():\n",
    "            taxonomy_dict[\"children\"][i][\"children\"][j][\"children\"].append({\"name\": row[\"profession\"]})"
   ]
  },
  {
   "cell_type": "code",
   "execution_count": 46,
   "metadata": {},
   "outputs": [],
   "source": [
    "json.dump(taxonomy_dict, open(\"../d3/flare.json\", \"w\"), indent=2)"
   ]
  },
  {
   "cell_type": "code",
   "execution_count": null,
   "metadata": {},
   "outputs": [],
   "source": []
  }
 ],
 "metadata": {
  "kernelspec": {
   "display_name": "loreal",
   "language": "python",
   "name": "python3"
  },
  "language_info": {
   "codemirror_mode": {
    "name": "ipython",
    "version": 3
   },
   "file_extension": ".py",
   "mimetype": "text/x-python",
   "name": "python",
   "nbconvert_exporter": "python",
   "pygments_lexer": "ipython3",
   "version": "3.11.3"
  }
 },
 "nbformat": 4,
 "nbformat_minor": 2
}
